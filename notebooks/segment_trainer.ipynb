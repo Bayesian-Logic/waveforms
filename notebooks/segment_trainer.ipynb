{
  "nbformat": 4,
  "nbformat_minor": 0,
  "metadata": {
    "colab": {
      "provenance": [],
      "collapsed_sections": [
        "e_66A1Jz0YPn"
      ],
      "authorship_tag": "ABX9TyOnNaYWGNdZFS7OuDIssebr",
      "include_colab_link": true
    },
    "kernelspec": {
      "name": "python3",
      "display_name": "Python 3"
    },
    "language_info": {
      "name": "python"
    }
  },
  "cells": [
    {
      "cell_type": "markdown",
      "metadata": {
        "id": "view-in-github",
        "colab_type": "text"
      },
      "source": [
        "<a href=\"https://colab.research.google.com/github/Bayesian-Logic/waveforms/blob/main/notebooks/segment_trainer.ipynb\" target=\"_parent\"><img src=\"https://colab.research.google.com/assets/colab-badge.svg\" alt=\"Open In Colab\"/></a>"
      ]
    },
    {
      "cell_type": "markdown",
      "source": [
        "This notebook trains a Deep Learning model to learn the arrival time of waveforms."
      ],
      "metadata": {
        "id": "gnO8818Eu2Zn"
      }
    },
    {
      "cell_type": "code",
      "source": [
        "# @title Default title text\n",
        "EXPERIMENT = \"exp001\" # @param {type:\"string\"}\n",
        "NOTES = \"first run\" # @param {type:\"string\"}\n",
        "DEBUG_RUN = False # @param {type:\"boolean\"}\n",
        "DISABLE_WANDB = True # @param {type:\"boolean\"}\n",
        "# @markdown Checking TRAIN_FULL will result in a model that trains on the entire dataset.\n",
        "# @markdown Only do this for final testing.\n",
        "TRAIN_FULL = False # @param {type:\"boolean\"}\n",
        "TRAIN_FILE = \"2022001-2022010.db\" # @param [\"2022001-2022010.db\"] {allow-input: true}\n",
        "\n",
        "DATA_DIR = \"/content/data\"\n",
        "OUTPUT_DIR=\"/content/output\"\n",
        "import os\n",
        "os.makedirs(OUTPUT_DIR, exist_ok=True)\n"
      ],
      "metadata": {
        "cellView": "form",
        "id": "I1kBelmEwfUO"
      },
      "execution_count": 9,
      "outputs": []
    },
    {
      "cell_type": "code",
      "source": [
        "# @title CONFIG OPTIONS\n",
        "import yaml, os\n",
        "\n",
        "CONFIG = yaml.safe_load(f\"\"\"\n",
        "exp_name: {EXPERIMENT}\n",
        "notes: {NOTES}\n",
        "disable_wandb: {DISABLE_WANDB}\n",
        "output_dir: {OUTPUT_DIR}\n",
        "data_dir: {DATA_DIR}\n",
        "\n",
        "model:\n",
        "  pos_weight: 1\n",
        "  class: UNetTransformer\n",
        "  UNetTransformer:\n",
        "    feedforward_mult: 3\n",
        "    d_model: 256\n",
        "    n_heads: 8,\n",
        "    kernel_size: 17\n",
        "    n_layers: 6\n",
        "    dropout_prob: 0.1\n",
        "\n",
        "train:\n",
        "  fold_idx: 0\n",
        "  num_folds: 4\n",
        "  data_window: 100 # LEB arrivals are centered in the data_window in each datum\n",
        "  train_window: 60 # a random subset of size train_window is selected from each datum\n",
        "  batch_size: 32\n",
        "  seed: 42\n",
        "  epoch: 10\n",
        "  num_workers: 2\n",
        "  accelerator: auto\n",
        "  use_amp: true\n",
        "  debug: {DEBUG_RUN}\n",
        "  gradient_clip_val: 1.0\n",
        "  accumulate_grad_batches: 1\n",
        "  check_val_every_n_epoch: 1\n",
        "  train_full: {TRAIN_FULL}\n",
        "  deterministic: true\n",
        "  train_file: {TRAIN_FILE}\n",
        "\n",
        "optimizer:\n",
        "  lr: 0.0005\n",
        "  class: AdamW  # SGD or AdamW\n",
        "  SGD:\n",
        "    momentum: 0.9\n",
        "    weight_decay: 0\n",
        "    nesterov: false\n",
        "    dampening: 0\n",
        "  AdamW:\n",
        "    weight_decay: 0\n",
        "  scheduler: cosine\n",
        "  num_warmup_steps: 0\n",
        "\"\"\")"
      ],
      "metadata": {
        "id": "0GLdjLauvHnJ"
      },
      "execution_count": 16,
      "outputs": []
    },
    {
      "cell_type": "markdown",
      "source": [
        "# Setup"
      ],
      "metadata": {
        "id": "e_66A1Jz0YPn"
      }
    },
    {
      "cell_type": "code",
      "source": [
        "# @title Create a logger for Colab.\n",
        "import logging\n",
        "from datetime import datetime\n",
        "\n",
        "# Create a root logger with the level set to INFO\n",
        "logger = logging.getLogger()\n",
        "logger.setLevel(logging.INFO)\n",
        "\n",
        "# Remove all existing handlers\n",
        "for handler in logger.handlers[:]:  # Iterate over a copy of the list to avoid modification during iteration\n",
        "    handler.close()\n",
        "    logger.removeHandler(handler)\n",
        "\n",
        "\n",
        "# Create a formatter with timestamp\n",
        "formatter = logging.Formatter('%(asctime)s - %(levelname)s - %(name)s - %(message)s', datefmt='%Y-%m-%d %H:%M:%S')\n",
        "\n",
        "# Create a custom handler to capture logs and display them in the output cell\n",
        "class ColabHandler(logging.Handler):\n",
        "    def emit(self, record):\n",
        "        log_entry = self.format(record)\n",
        "        print(log_entry)\n",
        "\n",
        "# Add the custom handler to the logger\n",
        "ch = ColabHandler()\n",
        "ch.setFormatter(formatter)\n",
        "logger.addHandler(ch)\n",
        "\n",
        "info = logging.getLogger().info\n",
        "\n",
        "info(\"Logger created.\")"
      ],
      "metadata": {
        "colab": {
          "base_uri": "https://localhost:8080/"
        },
        "cellView": "form",
        "id": "iEWrkL0oz0wC",
        "outputId": "7d4e6a48-c5a4-4bdb-b9d9-42c2d60db631"
      },
      "execution_count": 3,
      "outputs": [
        {
          "output_type": "stream",
          "name": "stdout",
          "text": [
            "2024-01-17 01:17:57 - INFO - root - Logger created.\n"
          ]
        }
      ]
    },
    {
      "cell_type": "code",
      "source": [
        "# @title Clone the github repository\n",
        "from google.colab import userdata\n",
        "GITHUB_TOKEN = userdata.get('GITHUB_WAVEFORMS_TOKEN')\n",
        "REPO = \"waveforms\"\n",
        "REPO_URL = f\"https://{GITHUB_TOKEN}@github.com/Bayesian-Logic/{REPO}.git\"\n",
        "import os\n",
        "if not os.path.exists(REPO):\n",
        "  info(\"Cloning github repository.\")\n",
        "  !git clone $REPO_URL\n",
        "  # configuring user name and email to allow us to make changes\n",
        "  !git config  --global user.email \"nimar.arora@gmail.com\"\n",
        "  !git config  --global user.name \"Nimar Arora\"\n",
        "  !git config  --global pull.rebase true\n",
        "else:\n",
        "  info(\"Github repository already exists.\")\n",
        "import sys\n",
        "repo_path = f\"/content/{REPO}/src\"\n",
        "if sys.path[1] != repo_path:\n",
        "  sys.path.insert(1, repo_path)\n",
        "# it's handy to use the autoreload extension in case we need to change some code\n",
        "# but if not changing code then you could remove these two lines.\n",
        "%load_ext autoreload\n",
        "%autoreload 2\n"
      ],
      "metadata": {
        "colab": {
          "base_uri": "https://localhost:8080/"
        },
        "cellView": "form",
        "id": "NIZSK5_a0zhS",
        "outputId": "094c17d4-721a-4fec-f462-a9239ab53a79"
      },
      "execution_count": 4,
      "outputs": [
        {
          "output_type": "stream",
          "name": "stdout",
          "text": [
            "2024-01-17 01:17:58 - INFO - root - Github repository already exists.\n"
          ]
        }
      ]
    },
    {
      "cell_type": "code",
      "source": [
        "# @title Download data\n",
        "import os\n",
        "import json\n",
        "import concurrent.futures\n",
        "from google.colab import userdata\n",
        "from google.oauth2 import service_account\n",
        "from google.cloud import storage\n",
        "\n",
        "# Set up data directory\n",
        "os.environ['DATA_DIR'] = '/content/data'\n",
        "\n",
        "def download_file(filename):\n",
        "    account_info = json.loads(userdata.get('GCP_SERVICE_ACCOUNT'))\n",
        "    credentials = service_account.Credentials.from_service_account_info(account_info)\n",
        "    storage_client = storage.Client(credentials=credentials)\n",
        "\n",
        "    bucket = storage_client.bucket('segment-waveforms')\n",
        "    blob = bucket.blob(filename)\n",
        "    blob.download_to_filename(os.path.join(DATA_DIR, filename))\n",
        "\n",
        "if not os.path.exists(DATA_DIR):\n",
        "    info(\"Downloading data.\")\n",
        "    !mkdir -p $DATA_DIR\n",
        "\n",
        "    download_file(TRAIN_FILE)\n",
        "\n",
        "    info(\"Finished downloading data.\")\n",
        "\n",
        "else:\n",
        "    info(\"Data already downloaded.\")"
      ],
      "metadata": {
        "colab": {
          "base_uri": "https://localhost:8080/"
        },
        "cellView": "form",
        "id": "6pqJEppO48Lj",
        "outputId": "9f56f01b-8ec3-4631-8115-5a709e3dcd23"
      },
      "execution_count": 5,
      "outputs": [
        {
          "output_type": "stream",
          "name": "stdout",
          "text": [
            "2024-01-17 01:17:59 - INFO - root - Data already downloaded.\n"
          ]
        }
      ]
    },
    {
      "cell_type": "code",
      "source": [
        "# @title Login to wandb\n",
        "!pip -q install wandb\n",
        "from google.colab import userdata\n",
        "import os\n",
        "os.environ[\"WANDB_API_KEY\"] = userdata.get('WANDB_API_KEY')\n",
        "os.environ[\"WANDB_ENTITY\"] = userdata.get(\"WANDB_ENTITY\")\n",
        "os.environ[\"WANDB_PROJECT\"] = \"segment-waveforms\"\n",
        "import wandb\n",
        "wandb.login()"
      ],
      "metadata": {
        "colab": {
          "base_uri": "https://localhost:8080/"
        },
        "cellView": "form",
        "id": "DVAzFel5565Y",
        "outputId": "a0056285-6997-442e-be10-e5a5b63eec92"
      },
      "execution_count": 6,
      "outputs": [
        {
          "output_type": "stream",
          "name": "stderr",
          "text": [
            "\u001b[34m\u001b[1mwandb\u001b[0m: Currently logged in as: \u001b[33mnimar-arora\u001b[0m. Use \u001b[1m`wandb login --relogin`\u001b[0m to force relogin\n"
          ]
        },
        {
          "output_type": "execute_result",
          "data": {
            "text/plain": [
              "True"
            ]
          },
          "metadata": {},
          "execution_count": 6
        }
      ]
    },
    {
      "cell_type": "code",
      "source": [
        "# @title Install some needed external packages\n",
        "!pip -q install torchinfo pytorch_lightning transformers\n",
        "import torch, torchinfo, pytorch_lightning, transformers\n",
        "info(\"torch: %s\" % torch.__version__)\n",
        "info(\"torchinfo: %s\" % torchinfo.__version__)\n",
        "info(\"pytorch_lightning: %s\" % pytorch_lightning.__version__)\n",
        "info(\"transformers: %s\" % transformers.__version__)"
      ],
      "metadata": {
        "colab": {
          "base_uri": "https://localhost:8080/"
        },
        "cellView": "form",
        "id": "UFtbZs_U8DlX",
        "outputId": "c184bf47-c2fe-4037-81e8-7c44f1300b12"
      },
      "execution_count": 7,
      "outputs": [
        {
          "output_type": "stream",
          "name": "stdout",
          "text": [
            "2024-01-17 01:18:24 - INFO - root - torch: 2.1.0+cu121\n",
            "2024-01-17 01:18:24 - INFO - root - torchinfo: 1.8.0\n",
            "2024-01-17 01:18:24 - INFO - root - pytorch_lightning: 2.1.3\n",
            "2024-01-17 01:18:24 - INFO - root - transformers: 4.35.2\n"
          ]
        }
      ]
    },
    {
      "cell_type": "markdown",
      "source": [
        "# Train a model"
      ],
      "metadata": {
        "id": "23Amj-Ip9PTC"
      }
    },
    {
      "cell_type": "code",
      "source": [
        "from seg.utils.train import do_train\n",
        "model = do_train(CONFIG)"
      ],
      "metadata": {
        "colab": {
          "base_uri": "https://localhost:8080/"
        },
        "id": "MkQ8P2dD9MTo",
        "outputId": "d6ea5bec-11e7-40ca-bfe4-c5a51139a3b4"
      },
      "execution_count": 8,
      "outputs": [
        {
          "output_type": "stream",
          "name": "stdout",
          "text": [
            "2024-01-17 01:18:24 - INFO - lightning_fabric.utilities.seed - Seed set to 42\n"
          ]
        }
      ]
    },
    {
      "cell_type": "code",
      "source": [
        "from seg.data.datamodule import SegDataModule\n",
        "import json\n",
        "from types import SimpleNamespace\n",
        "cfg = json.loads(json.dumps(CONFIG), object_hook=lambda d: SimpleNamespace(**d))\n",
        "data = SegDataModule(cfg)\n",
        "data.prepare_data()"
      ],
      "metadata": {
        "id": "HuadcwTjMEVb"
      },
      "execution_count": 18,
      "outputs": []
    },
    {
      "cell_type": "code",
      "source": [
        "import numpy as np\n",
        "import matplotlib.pyplot as plt\n",
        "\n",
        "data = np.load(\"/content/data/prepared/21593864_166653583.npy\")\n",
        "plt.plot(data)"
      ],
      "metadata": {
        "colab": {
          "base_uri": "https://localhost:8080/",
          "height": 445
        },
        "id": "fOvvwL13M77x",
        "outputId": "9a3e3cea-6083-4a1c-cb6e-6e25c0223fc9"
      },
      "execution_count": 20,
      "outputs": [
        {
          "output_type": "execute_result",
          "data": {
            "text/plain": [
              "[<matplotlib.lines.Line2D at 0x7a1fec071120>]"
            ]
          },
          "metadata": {},
          "execution_count": 20
        },
        {
          "output_type": "display_data",
          "data": {
            "text/plain": [
              "<Figure size 640x480 with 1 Axes>"
            ],
            "image/png": "[encoded data removed]"
          },
          "metadata": {}
        }
      ]
    },
    {
      "cell_type": "code",
      "source": [
        "len(data)"
      ],
      "metadata": {
        "colab": {
          "base_uri": "https://localhost:8080/"
        },
        "id": "eYg74vhlM8Tp",
        "outputId": "11777fd3-e798-4b24-fec2-b594f3c30910"
      },
      "execution_count": 21,
      "outputs": [
        {
          "output_type": "execute_result",
          "data": {
            "text/plain": [
              "2000"
            ]
          },
          "metadata": {},
          "execution_count": 21
        }
      ]
    },
    {
      "cell_type": "code",
      "source": [],
      "metadata": {
        "id": "1rbs7QLeNJ3R"
      },
      "execution_count": null,
      "outputs": []
    }
  ]
}